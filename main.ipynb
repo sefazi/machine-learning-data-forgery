{
 "cells": [
  {
   "cell_type": "code",
   "execution_count": 64,
   "metadata": {},
   "outputs": [],
   "source": [
    "# Importing Data\n",
    "import pandas as pd\n",
    "from sklearn.model_selection import train_test_split\n",
    "from sklearn.preprocessing import MinMaxScaler\n",
    "from sklearn.ensemble import RandomForestClassifier\n",
    "from sklearn.svm import SVC\n",
    "from sklearn.metrics import accuracy_score, precision_score, recall_score, f1_score\n",
    "from imblearn.over_sampling import SMOTE"
   ]
  },
  {
   "cell_type": "code",
   "execution_count": 65,
   "metadata": {},
   "outputs": [],
   "source": [
    "# Load dataset\n",
    "data = pd.read_csv('creditcard.csv')"
   ]
  },
  {
   "cell_type": "code",
   "execution_count": 66,
   "metadata": {},
   "outputs": [],
   "source": [
    "# Feature Scaling\n",
    "scaler = MinMaxScaler()\n",
    "data.iloc[:, :-1] = scaler.fit_transform(data.iloc[:, :-1])"
   ]
  },
  {
   "cell_type": "code",
   "execution_count": 67,
   "metadata": {},
   "outputs": [],
   "source": [
    "# Splitting data\n",
    "X = data.iloc[:, :-1]\n",
    "y = data['Class']\n",
    "X_train, X_test, y_train, y_test = train_test_split(X, y, test_size=0.2, random_state=42)"
   ]
  },
  {
   "cell_type": "code",
   "execution_count": 68,
   "metadata": {},
   "outputs": [],
   "source": [
    "# Handle imbalance using SMOTE\n",
    "smote = SMOTE(random_state=42)\n",
    "X_train_resampled, y_train_resampled = smote.fit_resample(X_train, y_train)\n",
    "X_train_sampled = X_train_resampled.sample(n=5000, random_state=42)  # Reduce to 5000 samples\n",
    "y_train_sampled = y_train_resampled[X_train_sampled.index]"
   ]
  },
  {
   "cell_type": "code",
   "execution_count": 69,
   "metadata": {},
   "outputs": [],
   "source": [
    "# Train SVM\n",
    "svm = SVC(kernel='rbf', random_state=42)\n",
    "svm.fit(X_train_sampled, y_train_sampled)\n",
    "y_pred_svm = svm.predict(X_test)"
   ]
  },
  {
   "cell_type": "code",
   "execution_count": 70,
   "metadata": {},
   "outputs": [],
   "source": [
    "# Train Random Forest\n",
    "rf = RandomForestClassifier(n_estimators=100, random_state=42)\n",
    "rf.fit(X_train_sampled, y_train_sampled)\n",
    "y_pred_rf = rf.predict(X_test)"
   ]
  },
  {
   "cell_type": "code",
   "execution_count": 71,
   "metadata": {},
   "outputs": [
    {
     "name": "stdout",
     "output_type": "stream",
     "text": [
      "SVM:\n",
      "Accuracy: 99.03%\n",
      "Precision: 13.90%\n",
      "Recall: 88.78%\n",
      "F1-Score: 24.03%\n",
      "\n",
      "\n",
      "Random Forest:\n",
      "Accuracy: 99.46%\n",
      "Precision: 22.72%\n",
      "Recall: 88.78%\n",
      "F1-Score: 36.17%\n"
     ]
    }
   ],
   "source": [
    "# Evaluate models\n",
    "metrics = ['Accuracy', 'Precision', 'Recall', 'F1-Score']\n",
    "svm_scores = [\n",
    "    accuracy_score(y_test, y_pred_svm) * 100,\n",
    "    precision_score(y_test, y_pred_svm) * 100,\n",
    "    recall_score(y_test, y_pred_svm) * 100,\n",
    "    f1_score(y_test, y_pred_svm) * 100\n",
    "]\n",
    "\n",
    "rf_scores = [\n",
    "    accuracy_score(y_test, y_pred_rf) * 100,\n",
    "    precision_score(y_test, y_pred_rf) * 100,\n",
    "    recall_score(y_test, y_pred_rf) * 100,\n",
    "    f1_score(y_test, y_pred_rf) * 100\n",
    "]\n",
    "\n",
    "print(\"SVM:\")\n",
    "for metric, svm_score in zip(metrics, svm_scores):\n",
    "    print(f\"{metric}: {svm_score:.2f}%\")\n",
    "\n",
    "print(\"\\n\")\n",
    "print(\"Random Forest:\")\n",
    "for metric, rf_score in zip(metrics, rf_scores):\n",
    "    print(f\"{metric}: {rf_score:.2f}%\")"
   ]
  },
  {
   "cell_type": "code",
   "execution_count": 72,
   "metadata": {},
   "outputs": [
    {
     "data": {
      "text/html": [
       "<div>\n",
       "<style scoped>\n",
       "    .dataframe tbody tr th:only-of-type {\n",
       "        vertical-align: middle;\n",
       "    }\n",
       "\n",
       "    .dataframe tbody tr th {\n",
       "        vertical-align: top;\n",
       "    }\n",
       "\n",
       "    .dataframe thead th {\n",
       "        text-align: right;\n",
       "    }\n",
       "</style>\n",
       "<table border=\"1\" class=\"dataframe\">\n",
       "  <thead>\n",
       "    <tr style=\"text-align: center;\">\n",
       "      <th></th>\n",
       "      <th>Accuracy</th>\n",
       "      <th>Precision</th>\n",
       "      <th>Recall</th>\n",
       "      <th>F1-Score</th>\n",
       "    </tr>\n",
       "  </thead>\n",
       "  <tbody>\n",
       "    <tr>\n",
       "      <th>SVM</th>\n",
       "      <td>99.03%</td>\n",
       "      <td>13.90%</td>\n",
       "      <td>88.78%</td>\n",
       "      <td>24.03%</td>\n",
       "    </tr>\n",
       "    <tr>\n",
       "      <th>Random Forest</th>\n",
       "      <td>99.46%</td>\n",
       "      <td>22.72%</td>\n",
       "      <td>88.78%</td>\n",
       "      <td>36.17%</td>\n",
       "    </tr>\n",
       "  </tbody>\n",
       "</table>\n",
       "</div>"
      ],
      "text/plain": [
       "              Accuracy Precision  Recall F1-Score\n",
       "SVM            99.03%    13.90%   88.78%  24.03% \n",
       "Random Forest  99.46%    22.72%   88.78%  36.17% "
      ]
     },
     "metadata": {},
     "output_type": "display_data"
    }
   ],
   "source": [
    "# Create a DataFrame with metrics as headers\n",
    "scores_table = pd.DataFrame(\n",
    "    [svm_scores, rf_scores],\n",
    "    columns=metrics,\n",
    "    index=['SVM', 'Random Forest']\n",
    ")\n",
    "scores_table = scores_table.round(2)\n",
    "scores_table = scores_table.map(lambda x: f\"{x:.2f}%\")\n",
    "\n",
    "# Display the table\n",
    "display(scores_table)"
   ]
  }
 ],
 "metadata": {
  "kernelspec": {
   "display_name": "Python 3",
   "language": "python",
   "name": "python3"
  },
  "language_info": {
   "codemirror_mode": {
    "name": "ipython",
    "version": 3
   },
   "file_extension": ".py",
   "mimetype": "text/x-python",
   "name": "python",
   "nbconvert_exporter": "python",
   "pygments_lexer": "ipython3",
   "version": "3.10.12"
  }
 },
 "nbformat": 4,
 "nbformat_minor": 2
}
